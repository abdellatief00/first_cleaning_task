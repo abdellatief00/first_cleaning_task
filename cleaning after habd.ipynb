{
 "cells": [
  {
   "cell_type": "code",
   "execution_count": 1,
   "id": "c9f6c9ce",
   "metadata": {},
   "outputs": [],
   "source": [
    "import pandas as pd \n",
    "import numpy as np\n"
   ]
  },
  {
   "cell_type": "code",
   "execution_count": 2,
   "id": "770e3922",
   "metadata": {},
   "outputs": [],
   "source": [
    "df = pd.read_csv('candyhierarchy2017.csv')"
   ]
  },
  {
   "cell_type": "code",
   "execution_count": 3,
   "id": "8b5b734f",
   "metadata": {
    "scrolled": true
   },
   "outputs": [
    {
     "data": {
      "text/html": [
       "<div>\n",
       "<style scoped>\n",
       "    .dataframe tbody tr th:only-of-type {\n",
       "        vertical-align: middle;\n",
       "    }\n",
       "\n",
       "    .dataframe tbody tr th {\n",
       "        vertical-align: top;\n",
       "    }\n",
       "\n",
       "    .dataframe thead th {\n",
       "        text-align: right;\n",
       "    }\n",
       "</style>\n",
       "<table border=\"1\" class=\"dataframe\">\n",
       "  <thead>\n",
       "    <tr style=\"text-align: right;\">\n",
       "      <th></th>\n",
       "      <th>Internal ID</th>\n",
       "      <th>Q1: GOING OUT?</th>\n",
       "      <th>Q2: GENDER</th>\n",
       "      <th>Q3: AGE</th>\n",
       "      <th>Q4: COUNTRY</th>\n",
       "      <th>Q5: STATE, PROVINCE, COUNTY, ETC</th>\n",
       "      <th>Q6 | 100 Grand Bar</th>\n",
       "      <th>Q6 | Anonymous brown globs that come in black and orange wrappers\\t(a.k.a. Mary Janes)</th>\n",
       "      <th>Q6 | Any full-sized candy bar</th>\n",
       "      <th>Q6 | Black Jacks</th>\n",
       "      <th>...</th>\n",
       "      <th>Q8: DESPAIR OTHER</th>\n",
       "      <th>Q9: OTHER COMMENTS</th>\n",
       "      <th>Q10: DRESS</th>\n",
       "      <th>Unnamed: 113</th>\n",
       "      <th>Q11: DAY</th>\n",
       "      <th>Q12: MEDIA [Daily Dish]</th>\n",
       "      <th>Q12: MEDIA [Science]</th>\n",
       "      <th>Q12: MEDIA [ESPN]</th>\n",
       "      <th>Q12: MEDIA [Yahoo]</th>\n",
       "      <th>Click Coordinates (x, y)</th>\n",
       "    </tr>\n",
       "  </thead>\n",
       "  <tbody>\n",
       "    <tr>\n",
       "      <th>0</th>\n",
       "      <td>90258773</td>\n",
       "      <td>NaN</td>\n",
       "      <td>NaN</td>\n",
       "      <td>NaN</td>\n",
       "      <td>NaN</td>\n",
       "      <td>NaN</td>\n",
       "      <td>NaN</td>\n",
       "      <td>NaN</td>\n",
       "      <td>NaN</td>\n",
       "      <td>NaN</td>\n",
       "      <td>...</td>\n",
       "      <td>NaN</td>\n",
       "      <td>NaN</td>\n",
       "      <td>NaN</td>\n",
       "      <td>NaN</td>\n",
       "      <td>NaN</td>\n",
       "      <td>NaN</td>\n",
       "      <td>NaN</td>\n",
       "      <td>NaN</td>\n",
       "      <td>NaN</td>\n",
       "      <td>NaN</td>\n",
       "    </tr>\n",
       "    <tr>\n",
       "      <th>1</th>\n",
       "      <td>90272821</td>\n",
       "      <td>No</td>\n",
       "      <td>Male</td>\n",
       "      <td>44</td>\n",
       "      <td>USA</td>\n",
       "      <td>NM</td>\n",
       "      <td>MEH</td>\n",
       "      <td>DESPAIR</td>\n",
       "      <td>JOY</td>\n",
       "      <td>MEH</td>\n",
       "      <td>...</td>\n",
       "      <td>NaN</td>\n",
       "      <td>Bottom line is Twix is really the only candy w...</td>\n",
       "      <td>White and gold</td>\n",
       "      <td>NaN</td>\n",
       "      <td>Sunday</td>\n",
       "      <td>NaN</td>\n",
       "      <td>1.0</td>\n",
       "      <td>NaN</td>\n",
       "      <td>NaN</td>\n",
       "      <td>(84, 25)</td>\n",
       "    </tr>\n",
       "    <tr>\n",
       "      <th>2</th>\n",
       "      <td>90272829</td>\n",
       "      <td>NaN</td>\n",
       "      <td>Male</td>\n",
       "      <td>49</td>\n",
       "      <td>USA</td>\n",
       "      <td>Virginia</td>\n",
       "      <td>NaN</td>\n",
       "      <td>NaN</td>\n",
       "      <td>NaN</td>\n",
       "      <td>NaN</td>\n",
       "      <td>...</td>\n",
       "      <td>NaN</td>\n",
       "      <td>NaN</td>\n",
       "      <td>NaN</td>\n",
       "      <td>NaN</td>\n",
       "      <td>NaN</td>\n",
       "      <td>NaN</td>\n",
       "      <td>NaN</td>\n",
       "      <td>NaN</td>\n",
       "      <td>NaN</td>\n",
       "      <td>NaN</td>\n",
       "    </tr>\n",
       "    <tr>\n",
       "      <th>3</th>\n",
       "      <td>90272840</td>\n",
       "      <td>No</td>\n",
       "      <td>Male</td>\n",
       "      <td>40</td>\n",
       "      <td>us</td>\n",
       "      <td>or</td>\n",
       "      <td>MEH</td>\n",
       "      <td>DESPAIR</td>\n",
       "      <td>JOY</td>\n",
       "      <td>MEH</td>\n",
       "      <td>...</td>\n",
       "      <td>NaN</td>\n",
       "      <td>Raisins can go to hell</td>\n",
       "      <td>White and gold</td>\n",
       "      <td>NaN</td>\n",
       "      <td>Sunday</td>\n",
       "      <td>NaN</td>\n",
       "      <td>1.0</td>\n",
       "      <td>NaN</td>\n",
       "      <td>NaN</td>\n",
       "      <td>(75, 23)</td>\n",
       "    </tr>\n",
       "    <tr>\n",
       "      <th>4</th>\n",
       "      <td>90272841</td>\n",
       "      <td>No</td>\n",
       "      <td>Male</td>\n",
       "      <td>23</td>\n",
       "      <td>usa</td>\n",
       "      <td>exton pa</td>\n",
       "      <td>JOY</td>\n",
       "      <td>DESPAIR</td>\n",
       "      <td>JOY</td>\n",
       "      <td>DESPAIR</td>\n",
       "      <td>...</td>\n",
       "      <td>NaN</td>\n",
       "      <td>NaN</td>\n",
       "      <td>White and gold</td>\n",
       "      <td>NaN</td>\n",
       "      <td>Friday</td>\n",
       "      <td>NaN</td>\n",
       "      <td>1.0</td>\n",
       "      <td>NaN</td>\n",
       "      <td>NaN</td>\n",
       "      <td>(70, 10)</td>\n",
       "    </tr>\n",
       "  </tbody>\n",
       "</table>\n",
       "<p>5 rows × 120 columns</p>\n",
       "</div>"
      ],
      "text/plain": [
       "   Internal ID Q1: GOING OUT? Q2: GENDER Q3: AGE Q4: COUNTRY  \\\n",
       "0     90258773            NaN        NaN     NaN         NaN   \n",
       "1     90272821             No       Male      44        USA    \n",
       "2     90272829            NaN       Male      49         USA   \n",
       "3     90272840             No       Male      40          us   \n",
       "4     90272841             No       Male      23         usa   \n",
       "\n",
       "  Q5: STATE, PROVINCE, COUNTY, ETC Q6 | 100 Grand Bar  \\\n",
       "0                              NaN                NaN   \n",
       "1                               NM                MEH   \n",
       "2                         Virginia                NaN   \n",
       "3                               or                MEH   \n",
       "4                         exton pa                JOY   \n",
       "\n",
       "  Q6 | Anonymous brown globs that come in black and orange wrappers\\t(a.k.a. Mary Janes)  \\\n",
       "0                                                NaN                                       \n",
       "1                                            DESPAIR                                       \n",
       "2                                                NaN                                       \n",
       "3                                            DESPAIR                                       \n",
       "4                                            DESPAIR                                       \n",
       "\n",
       "  Q6 | Any full-sized candy bar Q6 | Black Jacks  ... Q8: DESPAIR OTHER  \\\n",
       "0                           NaN              NaN  ...               NaN   \n",
       "1                           JOY              MEH  ...               NaN   \n",
       "2                           NaN              NaN  ...               NaN   \n",
       "3                           JOY              MEH  ...               NaN   \n",
       "4                           JOY          DESPAIR  ...               NaN   \n",
       "\n",
       "                                  Q9: OTHER COMMENTS      Q10: DRESS  \\\n",
       "0                                                NaN             NaN   \n",
       "1  Bottom line is Twix is really the only candy w...  White and gold   \n",
       "2                                                NaN             NaN   \n",
       "3                             Raisins can go to hell  White and gold   \n",
       "4                                                NaN  White and gold   \n",
       "\n",
       "  Unnamed: 113 Q11: DAY Q12: MEDIA [Daily Dish] Q12: MEDIA [Science]  \\\n",
       "0          NaN      NaN                     NaN                  NaN   \n",
       "1          NaN   Sunday                     NaN                  1.0   \n",
       "2          NaN      NaN                     NaN                  NaN   \n",
       "3          NaN   Sunday                     NaN                  1.0   \n",
       "4          NaN   Friday                     NaN                  1.0   \n",
       "\n",
       "  Q12: MEDIA [ESPN] Q12: MEDIA [Yahoo] Click Coordinates (x, y)  \n",
       "0               NaN                NaN                      NaN  \n",
       "1               NaN                NaN                 (84, 25)  \n",
       "2               NaN                NaN                      NaN  \n",
       "3               NaN                NaN                 (75, 23)  \n",
       "4               NaN                NaN                 (70, 10)  \n",
       "\n",
       "[5 rows x 120 columns]"
      ]
     },
     "execution_count": 3,
     "metadata": {},
     "output_type": "execute_result"
    }
   ],
   "source": [
    "df.head()"
   ]
  },
  {
   "cell_type": "code",
   "execution_count": 4,
   "id": "ccf97aeb",
   "metadata": {},
   "outputs": [],
   "source": [
    "df = df.rename(columns = {'Q1: GOING OUT?' : 'going_out', 'Q2: GENDER' : 'gender', 'Q3: AGE': 'age', 'Q4: COUNTRY' : 'country',\n",
    "       'Q5: STATE, PROVINCE, COUNTY, ETC' : 'area', 'Q10: DRESS' : 'dress', 'Q11: DAY': 'day',\n",
    "       'Q12: MEDIA [Daily Dish]' : 'media_DailyDish', 'Q12: MEDIA [Science]': 'media_Science', 'Q12: MEDIA [ESPN]' : 'media_ESPN',\n",
    "       'Q12: MEDIA [Yahoo]': 'media_Yahoo'})"
   ]
  },
  {
   "cell_type": "code",
   "execution_count": 5,
   "id": "3c672e4e",
   "metadata": {},
   "outputs": [
    {
     "data": {
      "text/plain": [
       "Index(['Internal ID', 'going_out', 'gender', 'age', 'country', 'area',\n",
       "       'Q6 | 100 Grand Bar',\n",
       "       'Q6 | Anonymous brown globs that come in black and orange wrappers\\t(a.k.a. Mary Janes)',\n",
       "       'Q6 | Any full-sized candy bar', 'Q6 | Black Jacks',\n",
       "       ...\n",
       "       'Q8: DESPAIR OTHER', 'Q9: OTHER COMMENTS', 'dress', 'Unnamed: 113',\n",
       "       'day', 'media_DailyDish', 'media_Science', 'media_ESPN', 'media_Yahoo',\n",
       "       'Click Coordinates (x, y)'],\n",
       "      dtype='object', length=120)"
      ]
     },
     "execution_count": 5,
     "metadata": {},
     "output_type": "execute_result"
    }
   ],
   "source": [
    "df.columns"
   ]
  },
  {
   "cell_type": "code",
   "execution_count": 6,
   "id": "77c88e71",
   "metadata": {},
   "outputs": [
    {
     "data": {
      "text/plain": [
       "array([nan, 'No', 'Yes'], dtype=object)"
      ]
     },
     "execution_count": 6,
     "metadata": {},
     "output_type": "execute_result"
    }
   ],
   "source": [
    "df['going_out'].unique()"
   ]
  },
  {
   "cell_type": "code",
   "execution_count": 7,
   "id": "65662b9b",
   "metadata": {},
   "outputs": [],
   "source": [
    "df = df.dropna(how  = 'all')\n",
    "df.dropna(thresh = 5 , axis = 0)\n",
    "df.drop(columns = ['Unnamed: 113','Click Coordinates (x, y)'],inplace = True)"
   ]
  },
  {
   "cell_type": "code",
   "execution_count": 8,
   "id": "c1bd0769",
   "metadata": {},
   "outputs": [
    {
     "data": {
      "text/plain": [
       "(2460, 118)"
      ]
     },
     "execution_count": 8,
     "metadata": {},
     "output_type": "execute_result"
    }
   ],
   "source": [
    "df.shape"
   ]
  },
  {
   "cell_type": "code",
   "execution_count": 9,
   "id": "687dc0cc",
   "metadata": {},
   "outputs": [],
   "source": [
    "df['going_out'] = df['going_out'].fillna('Not Sure')"
   ]
  },
  {
   "cell_type": "code",
   "execution_count": 11,
   "id": "e273375e",
   "metadata": {},
   "outputs": [
    {
     "data": {
      "text/plain": [
       "Male                  1467\n",
       "Female                 839\n",
       "I'd rather not say      83\n",
       "Other                   30\n",
       "Name: gender, dtype: int64"
      ]
     },
     "execution_count": 11,
     "metadata": {},
     "output_type": "execute_result"
    }
   ],
   "source": [
    "df['gender'].value_counts()"
   ]
  },
  {
   "cell_type": "code",
   "execution_count": 12,
   "id": "34f59364",
   "metadata": {},
   "outputs": [
    {
     "data": {
      "text/plain": [
       "(83, 118)"
      ]
     },
     "execution_count": 12,
     "metadata": {},
     "output_type": "execute_result"
    }
   ],
   "source": [
    "df[df.gender == \"I'd rather not say\"].shape"
   ]
  },
  {
   "cell_type": "code",
   "execution_count": 13,
   "id": "fc376eaa",
   "metadata": {},
   "outputs": [
    {
     "data": {
      "text/plain": [
       "Male                  1467\n",
       "Female                 839\n",
       "I'd rather not say     124\n",
       "Other                   30\n",
       "Name: gender, dtype: int64"
      ]
     },
     "execution_count": 13,
     "metadata": {},
     "output_type": "execute_result"
    }
   ],
   "source": [
    "df['gender'] = df['gender'].fillna('I\\'d rather not say')\n",
    "df['gender'].value_counts()"
   ]
  },
  {
   "cell_type": "code",
   "execution_count": 14,
   "id": "13c85b50",
   "metadata": {
    "scrolled": true
   },
   "outputs": [
    {
     "data": {
      "text/plain": [
       "array([nan, 'USA ', 'USA', 'us', 'usa', 'canada', 'Canada', 'Us', 'US',\n",
       "       'Murica', 'United States', 'uk', 'United Kingdom', 'united states',\n",
       "       'Usa', 'United States ', 'United staes',\n",
       "       'United States of America', 'UAE', 'England', 'UK', 'canada ',\n",
       "       'Mexico', 'United states', 'u.s.a.', 'USAUSAUSA', 'america', '35',\n",
       "       'france', 'United States of America ', 'U.S.A.', 'finland',\n",
       "       'unhinged states', 'Canada ', 'united states of america',\n",
       "       'US of A', 'Unites States', 'The United States', 'North Carolina ',\n",
       "       'Unied States', 'Netherlands', 'germany', 'Europe', 'Earth', 'U S',\n",
       "       'u.s.', 'U.K. ', 'Costa Rica', 'The United States of America',\n",
       "       'unite states', 'U.S.', '46', 'cascadia', 'Australia',\n",
       "       'insanity lately', 'Greece', 'USA? Hard to tell anymore..',\n",
       "       \"'merica\", 'usas', 'Pittsburgh', '45', 'United State', '32',\n",
       "       'France', 'australia', 'A', 'Can', 'Canae', 'New York',\n",
       "       'Trumpistan', 'Ireland', 'United Sates', 'Korea', 'California',\n",
       "       'Japan', 'USa', 'South africa',\n",
       "       'I pretend to be from Canada, but I am really from the United States.',\n",
       "       'Usa ', 'Uk', 'Iceland', 'Germany', 'Canada`', 'Scotland', 'UK ',\n",
       "       'Denmark', 'United Stated', 'France ', 'Switzerland',\n",
       "       'Ahem....Amerca', 'UD', 'Scotland ', 'South Korea', 'New Jersey',\n",
       "       'CANADA', 'Indonesia', 'United ststes', 'America',\n",
       "       'The Netherlands', 'United Statss', 'endland', 'Atlantis',\n",
       "       'murrika', 'USA! USA! USA!', 'USAA', 'Alaska', 'united States ',\n",
       "       'soviet canuckistan', 'N. America', 'Singapore', 'USSA', 'China',\n",
       "       'Taiwan', 'Ireland ', 'hong kong', 'spain', 'Sweden', 'Hong Kong',\n",
       "       'U.S. ', 'Narnia', 'u s a', 'United Statea', 'united ststes', '1',\n",
       "       'subscribe to dm4uz3 on youtube', 'United kingdom',\n",
       "       'USA USA USA!!!!', \"I don't know anymore\", 'Fear and Loathing'],\n",
       "      dtype=object)"
      ]
     },
     "execution_count": 14,
     "metadata": {},
     "output_type": "execute_result"
    }
   ],
   "source": [
    "df['country'].unique()"
   ]
  },
  {
   "cell_type": "code",
   "execution_count": 15,
   "id": "28668f03",
   "metadata": {
    "scrolled": true
   },
   "outputs": [
    {
     "data": {
      "text/plain": [
       "USA                     699\n",
       "United States           497\n",
       "usa                     217\n",
       "Canada                  179\n",
       "Usa                     139\n",
       "                       ... \n",
       "United kingdom            1\n",
       "USA USA USA!!!!           1\n",
       "I don't know anymore      1\n",
       "France                    1\n",
       "Fear and Loathing         1\n",
       "Name: country, Length: 129, dtype: int64"
      ]
     },
     "execution_count": 15,
     "metadata": {},
     "output_type": "execute_result"
    }
   ],
   "source": [
    "df['country'].value_counts(dropna = False).sort_values(ascending = False)"
   ]
  },
  {
   "cell_type": "code",
   "execution_count": 16,
   "id": "7ce1cc53",
   "metadata": {},
   "outputs": [
    {
     "data": {
      "text/plain": [
       "64"
      ]
     },
     "execution_count": 16,
     "metadata": {},
     "output_type": "execute_result"
    }
   ],
   "source": [
    "df['country'].isna().sum()"
   ]
  },
  {
   "cell_type": "code",
   "execution_count": 17,
   "id": "0afdab8f",
   "metadata": {},
   "outputs": [],
   "source": [
    "df['country'] = df['country'].fillna('Unkown')"
   ]
  },
  {
   "cell_type": "code",
   "execution_count": 18,
   "id": "deea55c3",
   "metadata": {},
   "outputs": [],
   "source": [
    "df['country']=df['country'].str.lower()\n",
    "df['country'] = df['country'].str.strip()\n",
    "df['country'] = df['country'].str.capitalize()\n",
    "df['country'] = df['country'].str.replace('.','',regex =True)"
   ]
  },
  {
   "cell_type": "code",
   "execution_count": 19,
   "id": "9f3b737d",
   "metadata": {
    "scrolled": true
   },
   "outputs": [
    {
     "data": {
      "text/plain": [
       "Usa                                                                    1138\n",
       "United states                                                           592\n",
       "Canada                                                                  224\n",
       "Us                                                                      194\n",
       "United states of america                                                 73\n",
       "                                                                       ... \n",
       "Usaa                                                                      1\n",
       "Canada`                                                                   1\n",
       "Canae                                                                     1\n",
       "I pretend to be from canada, but i am really from the united states       1\n",
       "Fear and loathing                                                         1\n",
       "Name: country, Length: 93, dtype: int64"
      ]
     },
     "execution_count": 19,
     "metadata": {},
     "output_type": "execute_result"
    }
   ],
   "source": [
    "df.country.value_counts(dropna = False).sort_values(ascending  = False)"
   ]
  },
  {
   "cell_type": "code",
   "execution_count": 20,
   "id": "0827da68",
   "metadata": {
    "scrolled": true
   },
   "outputs": [
    {
     "data": {
      "text/plain": [
       "array(['Unkown', 'Usa', 'Us', 'Canada', 'Murica', 'United states', 'Uk',\n",
       "       'United kingdom', 'United staes', 'United states of america',\n",
       "       'Uae', 'England', 'Mexico', 'Usausausa', 'America', '35', 'France',\n",
       "       'Finland', 'Unhinged states', 'Us of a', 'Unites states',\n",
       "       'The united states', 'North carolina', 'Unied states',\n",
       "       'Netherlands', 'Germany', 'Europe', 'Earth', 'U s', 'Costa rica',\n",
       "       'The united states of america', 'Unite states', '46', 'Cascadia',\n",
       "       'Australia', 'Insanity lately', 'Greece',\n",
       "       'Usa? hard to tell anymore', \"'merica\", 'Usas', 'Pittsburgh', '45',\n",
       "       'United state', '32', 'A', 'Can', 'Canae', 'New york',\n",
       "       'Trumpistan', 'Ireland', 'United sates', 'Korea', 'California',\n",
       "       'Japan', 'South africa',\n",
       "       'I pretend to be from canada, but i am really from the united states',\n",
       "       'Iceland', 'Canada`', 'Scotland', 'Denmark', 'United stated',\n",
       "       'Switzerland', 'Ahemamerca', 'Ud', 'South korea', 'New jersey',\n",
       "       'Indonesia', 'United ststes', 'The netherlands', 'United statss',\n",
       "       'Endland', 'Atlantis', 'Murrika', 'Usa! usa! usa!', 'Usaa',\n",
       "       'Alaska', 'Soviet canuckistan', 'N america', 'Singapore', 'Ussa',\n",
       "       'China', 'Taiwan', 'Hong kong', 'Spain', 'Sweden', 'Narnia',\n",
       "       'U s a', 'United statea', '1', 'Subscribe to dm4uz3 on youtube',\n",
       "       'Usa usa usa!!!!', \"I don't know anymore\", 'Fear and loathing'],\n",
       "      dtype=object)"
      ]
     },
     "execution_count": 20,
     "metadata": {},
     "output_type": "execute_result"
    }
   ],
   "source": [
    "df['country'].unique()"
   ]
  },
  {
   "cell_type": "code",
   "execution_count": 21,
   "id": "823954f9",
   "metadata": {},
   "outputs": [],
   "source": [
    "places = np.array(['United states of america','Usa','Canada','England','Uk','Unknown','Uae','Mexico','France','Finland','Netherlands','Germany'\n",
    "         ,'Europe','costa rica','Australia','Greece','Ireland','Korea','South africa','Scotland','Denmark','Switzerland','Indonesia',\n",
    "         'Singapor','China','Taiwan','Hong kong','Spain','Sweeden'])"
   ]
  },
  {
   "cell_type": "code",
   "execution_count": 22,
   "id": "5e9fdc47",
   "metadata": {},
   "outputs": [],
   "source": [
    "ser = pd.DataFrame({'countries':places})"
   ]
  },
  {
   "cell_type": "code",
   "execution_count": 23,
   "id": "efb7aa99",
   "metadata": {},
   "outputs": [
    {
     "name": "stderr",
     "output_type": "stream",
     "text": [
      "C:\\Users\\FIRST\\AppData\\Local\\Programs\\Python\\Python310\\lib\\site-packages\\fuzzywuzzy\\fuzz.py:11: UserWarning: Using slow pure-python SequenceMatcher. Install python-Levenshtein to remove this warning\n",
      "  warnings.warn('Using slow pure-python SequenceMatcher. Install python-Levenshtein to remove this warning')\n"
     ]
    }
   ],
   "source": [
    "from fuzzywuzzy import process"
   ]
  },
  {
   "cell_type": "code",
   "execution_count": 24,
   "id": "9d2b6490",
   "metadata": {},
   "outputs": [],
   "source": [
    "for state in ser['countries']:\n",
    "    match = process.extract(state , df['country'] , limit  = df.shape[0])\n",
    "    for potential_match in match :\n",
    "        if potential_match[1] >=80 :\n",
    "            df.loc[df['country'] == potential_match[0] , 'country'] = state\n",
    "    "
   ]
  },
  {
   "cell_type": "code",
   "execution_count": 25,
   "id": "65b459bf",
   "metadata": {},
   "outputs": [],
   "source": [
    "filt = df['country'].str.isdigit()==True\n",
    "df.loc[filt,'country'] = 'Unknown'"
   ]
  },
  {
   "cell_type": "code",
   "execution_count": 26,
   "id": "55752182",
   "metadata": {},
   "outputs": [
    {
     "data": {
      "text/plain": [
       "array(['Unknown', 'Usa', 'Canada', 'Murica', 'United states of america',\n",
       "       'Uk', 'Uae', 'England', 'Mexico', 'France', 'Finland',\n",
       "       'North carolina', 'Netherlands', 'Germany', 'Europe', 'Earth',\n",
       "       'costa rica', 'Cascadia', 'Australia', 'Insanity lately', 'Greece',\n",
       "       'Usa? hard to tell anymore', 'Pittsburgh', 'Canae', 'New york',\n",
       "       'Trumpistan', 'Ireland', 'Korea', 'California', 'Japan',\n",
       "       'South africa', 'Scotland', 'Denmark', 'Switzerland', 'Ahemamerca',\n",
       "       'Ud', 'New jersey', 'Indonesia', 'Atlantis', 'Murrika', 'Alaska',\n",
       "       'Soviet canuckistan', 'Singapor', 'China', 'Taiwan', 'Hong kong',\n",
       "       'Spain', 'Sweeden', 'Narnia', 'U s a',\n",
       "       'Subscribe to dm4uz3 on youtube', \"I don't know anymore\",\n",
       "       'Fear and loathing'], dtype=object)"
      ]
     },
     "execution_count": 26,
     "metadata": {},
     "output_type": "execute_result"
    }
   ],
   "source": [
    "df['country'].unique()"
   ]
  },
  {
   "cell_type": "code",
   "execution_count": 27,
   "id": "05a60adc",
   "metadata": {},
   "outputs": [],
   "source": [
    "states_in_america  = np.array(['North carolina','New york','Trumpistan','Ahemamerca','New jersey','Murrika','Alaska'\n",
    "                              ,'U s a','Pittsburgh','Usa? hard to tell anymore','California','Murica','Cascadia'])\n",
    "unknown_places = np.array(['Earth','Atlantis','Ud','Soviet canuckistan','Subscribe to dm4uz3 on youtube',\n",
    "                          'I don\\'t know anymore','Fear and loathing','Insanity lately','Narnia'])"
   ]
  },
  {
   "cell_type": "code",
   "execution_count": 28,
   "id": "14df2a4b",
   "metadata": {},
   "outputs": [],
   "source": [
    "df['country'] = df['country'].replace(to_replace = states_in_america,value = 'Usa')\n",
    "df['country'] = df['country'].replace(to_replace = unknown_places,value = 'Unknown')\n",
    "df['country'] = df['country'].str.replace(\"Canae\",'Canada')"
   ]
  },
  {
   "cell_type": "code",
   "execution_count": 29,
   "id": "f6828d84",
   "metadata": {},
   "outputs": [],
   "source": [
    "df.loc[df['country'] == 'Usa? hard to tell anymore','country'] = 'Usa'"
   ]
  },
  {
   "cell_type": "code",
   "execution_count": 30,
   "id": "6fa2af43",
   "metadata": {},
   "outputs": [
    {
     "data": {
      "text/plain": [
       "array(['Unknown', 'Usa', 'Canada', 'Uk', 'Uae', 'England', 'Mexico',\n",
       "       'France', 'Finland', 'Netherlands', 'Germany', 'Europe',\n",
       "       'costa rica', 'Australia', 'Greece', 'Ireland', 'Korea', 'Japan',\n",
       "       'South africa', 'Scotland', 'Denmark', 'Switzerland', 'Indonesia',\n",
       "       'Singapor', 'China', 'Taiwan', 'Hong kong', 'Spain', 'Sweeden'],\n",
       "      dtype=object)"
      ]
     },
     "execution_count": 30,
     "metadata": {},
     "output_type": "execute_result"
    }
   ],
   "source": [
    "df['country']=df['country'].str.replace('United states of america','Usa')\n",
    "df['country'].unique()"
   ]
  },
  {
   "cell_type": "code",
   "execution_count": 31,
   "id": "24213554",
   "metadata": {},
   "outputs": [],
   "source": [
    "other = [x for x in df.country.unique()]\n",
    "other.remove('Usa')\n",
    "other.remove('Canada')"
   ]
  },
  {
   "cell_type": "code",
   "execution_count": 32,
   "id": "89851038",
   "metadata": {},
   "outputs": [],
   "source": [
    "df['country'] = df['country'].replace(to_replace=other , value = 'Other')"
   ]
  },
  {
   "cell_type": "code",
   "execution_count": 33,
   "id": "e4c06340",
   "metadata": {},
   "outputs": [
    {
     "data": {
      "text/plain": [
       "array(['Other', 'Usa', 'Canada'], dtype=object)"
      ]
     },
     "execution_count": 33,
     "metadata": {},
     "output_type": "execute_result"
    }
   ],
   "source": [
    "df['country'].unique()"
   ]
  },
  {
   "cell_type": "code",
   "execution_count": 34,
   "id": "f9d6f705",
   "metadata": {},
   "outputs": [
    {
     "data": {
      "text/plain": [
       "array([nan, '44', '49', '40', '23', '53', '33', '43', '56', '64', '37',\n",
       "       '59', '48', '54', '36', '45', '25', '34', '35', '38', '58', '50',\n",
       "       '47', '16', '52', '63', '65', '41', '27', '31', '61', '46', '42',\n",
       "       '62', '29', '39', '32', '28', '69', '67', '30', '22', '26', '51',\n",
       "       '70', '24', '18', '19', 'Old enough', '57', '60', '66', '12',\n",
       "       'Many', '55', '72', '?', '21', '11', 'no', '9', '68', '20', '6',\n",
       "       '10', '71', '90', '13', '45-55', '312', '99', '7', 'hahahahaha',\n",
       "       '88', '39٫4', '74', '102', 'older than dirt', '17', '15', '8',\n",
       "       '75', '5u', 'Enough', 'See question 2', '24-50', '14', 'Over 50',\n",
       "       '100', '76', '1000', 'sixty-nine', '46 Halloweens.', 'ancient',\n",
       "       '77', 'OLD', 'old', '73', '70 1/2', '1', 'MY NAME JEFF', '4',\n",
       "       '59 on the day after Halloween', 'old enough', 'your mom',\n",
       "       'I can remember when Java was a cool new language', '60+'],\n",
       "      dtype=object)"
      ]
     },
     "execution_count": 34,
     "metadata": {},
     "output_type": "execute_result"
    }
   ],
   "source": [
    "df['age'].unique()"
   ]
  },
  {
   "cell_type": "code",
   "execution_count": 35,
   "id": "90471174",
   "metadata": {},
   "outputs": [],
   "source": [
    "df['age'] = pd.to_numeric(df['age'],errors = 'coerce')"
   ]
  },
  {
   "cell_type": "code",
   "execution_count": 37,
   "id": "e0aaa853",
   "metadata": {},
   "outputs": [],
   "source": [
    "filt9 = (df['age'] >=130) | (df['age'] < 1) \n",
    "df.loc[filt9,'age'] = np.nan"
   ]
  },
  {
   "cell_type": "code",
   "execution_count": 38,
   "id": "dd0b8b74",
   "metadata": {},
   "outputs": [],
   "source": [
    "age_mean = df['age'].mean()\n",
    "df['age']  = df['age'].fillna(age_mean)\n",
    "df['age'] = df['age'].astype('int')"
   ]
  },
  {
   "cell_type": "code",
   "execution_count": 39,
   "id": "27607c5d",
   "metadata": {},
   "outputs": [
    {
     "data": {
      "text/plain": [
       "array([ 42,  44,  49,  40,  23,  53,  33,  43,  56,  64,  37,  59,  48,\n",
       "        54,  36,  45,  25,  34,  35,  38,  58,  50,  47,  16,  52,  63,\n",
       "        65,  41,  27,  31,  61,  46,  62,  29,  39,  32,  28,  69,  67,\n",
       "        30,  22,  26,  51,  70,  24,  18,  19,  57,  60,  66,  12,  55,\n",
       "        72,  21,  11,   9,  68,  20,   6,  10,  71,  90,  13,  99,   7,\n",
       "        88,  74, 102,  17,  15,   8,  75,  14, 100,  76,  77,  73,   1,\n",
       "         4])"
      ]
     },
     "execution_count": 39,
     "metadata": {},
     "output_type": "execute_result"
    }
   ],
   "source": [
    "df['age'].unique()"
   ]
  },
  {
   "cell_type": "code",
   "execution_count": 40,
   "id": "4a9129e9",
   "metadata": {},
   "outputs": [],
   "source": [
    "df = df.astype({'going_out':'category', 'gender':'category', 'country':'category', 'dress':'category', 'day':'category'})"
   ]
  },
  {
   "cell_type": "code",
   "execution_count": 41,
   "id": "d733325f",
   "metadata": {},
   "outputs": [
    {
     "data": {
      "text/html": [
       "<div>\n",
       "<style scoped>\n",
       "    .dataframe tbody tr th:only-of-type {\n",
       "        vertical-align: middle;\n",
       "    }\n",
       "\n",
       "    .dataframe tbody tr th {\n",
       "        vertical-align: top;\n",
       "    }\n",
       "\n",
       "    .dataframe thead th {\n",
       "        text-align: right;\n",
       "    }\n",
       "</style>\n",
       "<table border=\"1\" class=\"dataframe\">\n",
       "  <thead>\n",
       "    <tr style=\"text-align: right;\">\n",
       "      <th></th>\n",
       "      <th>going_out</th>\n",
       "      <th>gender</th>\n",
       "      <th>country</th>\n",
       "      <th>dress</th>\n",
       "      <th>day</th>\n",
       "    </tr>\n",
       "  </thead>\n",
       "  <tbody>\n",
       "    <tr>\n",
       "      <th>count</th>\n",
       "      <td>2460</td>\n",
       "      <td>2460</td>\n",
       "      <td>2460</td>\n",
       "      <td>1716</td>\n",
       "      <td>1735</td>\n",
       "    </tr>\n",
       "    <tr>\n",
       "      <th>unique</th>\n",
       "      <td>3</td>\n",
       "      <td>4</td>\n",
       "      <td>3</td>\n",
       "      <td>2</td>\n",
       "      <td>2</td>\n",
       "    </tr>\n",
       "    <tr>\n",
       "      <th>top</th>\n",
       "      <td>No</td>\n",
       "      <td>Male</td>\n",
       "      <td>Usa</td>\n",
       "      <td>White and gold</td>\n",
       "      <td>Friday</td>\n",
       "    </tr>\n",
       "    <tr>\n",
       "      <th>freq</th>\n",
       "      <td>2038</td>\n",
       "      <td>1467</td>\n",
       "      <td>2065</td>\n",
       "      <td>1081</td>\n",
       "      <td>1091</td>\n",
       "    </tr>\n",
       "  </tbody>\n",
       "</table>\n",
       "</div>"
      ],
      "text/plain": [
       "       going_out gender country           dress     day\n",
       "count       2460   2460    2460            1716    1735\n",
       "unique         3      4       3               2       2\n",
       "top           No   Male     Usa  White and gold  Friday\n",
       "freq        2038   1467    2065            1081    1091"
      ]
     },
     "execution_count": 41,
     "metadata": {},
     "output_type": "execute_result"
    }
   ],
   "source": [
    "df.describe(include = 'category')"
   ]
  },
  {
   "cell_type": "code",
   "execution_count": 42,
   "id": "b0310536",
   "metadata": {},
   "outputs": [],
   "source": [
    "data = df[df.columns[-4:]]"
   ]
  },
  {
   "cell_type": "code",
   "execution_count": 43,
   "id": "d68cbb36",
   "metadata": {},
   "outputs": [
    {
     "data": {
      "text/html": [
       "<div>\n",
       "<style scoped>\n",
       "    .dataframe tbody tr th:only-of-type {\n",
       "        vertical-align: middle;\n",
       "    }\n",
       "\n",
       "    .dataframe tbody tr th {\n",
       "        vertical-align: top;\n",
       "    }\n",
       "\n",
       "    .dataframe thead th {\n",
       "        text-align: right;\n",
       "    }\n",
       "</style>\n",
       "<table border=\"1\" class=\"dataframe\">\n",
       "  <thead>\n",
       "    <tr style=\"text-align: right;\">\n",
       "      <th></th>\n",
       "      <th>media_DailyDish</th>\n",
       "      <th>media_Science</th>\n",
       "      <th>media_ESPN</th>\n",
       "      <th>media_Yahoo</th>\n",
       "    </tr>\n",
       "  </thead>\n",
       "  <tbody>\n",
       "    <tr>\n",
       "      <th>0</th>\n",
       "      <td>NaN</td>\n",
       "      <td>NaN</td>\n",
       "      <td>NaN</td>\n",
       "      <td>NaN</td>\n",
       "    </tr>\n",
       "    <tr>\n",
       "      <th>1</th>\n",
       "      <td>NaN</td>\n",
       "      <td>1.0</td>\n",
       "      <td>NaN</td>\n",
       "      <td>NaN</td>\n",
       "    </tr>\n",
       "    <tr>\n",
       "      <th>2</th>\n",
       "      <td>NaN</td>\n",
       "      <td>NaN</td>\n",
       "      <td>NaN</td>\n",
       "      <td>NaN</td>\n",
       "    </tr>\n",
       "    <tr>\n",
       "      <th>3</th>\n",
       "      <td>NaN</td>\n",
       "      <td>1.0</td>\n",
       "      <td>NaN</td>\n",
       "      <td>NaN</td>\n",
       "    </tr>\n",
       "    <tr>\n",
       "      <th>4</th>\n",
       "      <td>NaN</td>\n",
       "      <td>1.0</td>\n",
       "      <td>NaN</td>\n",
       "      <td>NaN</td>\n",
       "    </tr>\n",
       "  </tbody>\n",
       "</table>\n",
       "</div>"
      ],
      "text/plain": [
       "   media_DailyDish  media_Science  media_ESPN  media_Yahoo\n",
       "0              NaN            NaN         NaN          NaN\n",
       "1              NaN            1.0         NaN          NaN\n",
       "2              NaN            NaN         NaN          NaN\n",
       "3              NaN            1.0         NaN          NaN\n",
       "4              NaN            1.0         NaN          NaN"
      ]
     },
     "execution_count": 43,
     "metadata": {},
     "output_type": "execute_result"
    }
   ],
   "source": [
    "data.head()"
   ]
  },
  {
   "cell_type": "code",
   "execution_count": 44,
   "id": "d5e3516a",
   "metadata": {},
   "outputs": [],
   "source": [
    "def melt(row):\n",
    "    for c in data.columns:\n",
    "        if row[c]==1:\n",
    "            return c"
   ]
  },
  {
   "cell_type": "code",
   "execution_count": 45,
   "id": "32ee093d",
   "metadata": {},
   "outputs": [],
   "source": [
    "new_col = data.apply(melt,axis = 1)"
   ]
  },
  {
   "cell_type": "code",
   "execution_count": 46,
   "id": "fef8ddf2",
   "metadata": {},
   "outputs": [],
   "source": [
    "df['media_preference'] = new_col"
   ]
  },
  {
   "cell_type": "code",
   "execution_count": 47,
   "id": "03b4fe10",
   "metadata": {},
   "outputs": [
    {
     "data": {
      "text/plain": [
       "array(['unknown', 'media_Science', 'media_DailyDish', 'media_Yahoo',\n",
       "       'media_ESPN'], dtype=object)"
      ]
     },
     "execution_count": 47,
     "metadata": {},
     "output_type": "execute_result"
    }
   ],
   "source": [
    "df['media_preference'] = df['media_preference'].fillna('unknown')\n",
    "df['media_preference'].unique()"
   ]
  },
  {
   "cell_type": "code",
   "execution_count": 48,
   "id": "cabcd7b0",
   "metadata": {},
   "outputs": [],
   "source": [
    "df.drop(columns = ['media_DailyDish','media_Science','media_ESPN','media_Yahoo'],inplace =True)"
   ]
  },
  {
   "cell_type": "code",
   "execution_count": 49,
   "id": "e6cdc270",
   "metadata": {},
   "outputs": [
    {
     "data": {
      "text/plain": [
       "media_Science      1362\n",
       "unknown             847\n",
       "media_ESPN           99\n",
       "media_DailyDish      85\n",
       "media_Yahoo          67\n",
       "Name: media_preference, dtype: int64"
      ]
     },
     "execution_count": 49,
     "metadata": {},
     "output_type": "execute_result"
    }
   ],
   "source": [
    "df['media_preference'].value_counts(dropna = False)"
   ]
  },
  {
   "cell_type": "code",
   "execution_count": 50,
   "id": "474f337c",
   "metadata": {},
   "outputs": [],
   "source": [
    "df_options = [i for i in df.columns if 'Q6' in i ]"
   ]
  },
  {
   "cell_type": "code",
   "execution_count": 51,
   "id": "00dffe06",
   "metadata": {},
   "outputs": [],
   "source": [
    "other_questions = [i for i in df.columns if 'Q7' in i or 'Q8' in i or 'Q9' in i]"
   ]
  },
  {
   "cell_type": "code",
   "execution_count": 52,
   "id": "80a6c488",
   "metadata": {},
   "outputs": [
    {
     "data": {
      "text/plain": [
       "['Q7: JOY OTHER', 'Q8: DESPAIR OTHER', 'Q9: OTHER COMMENTS']"
      ]
     },
     "execution_count": 52,
     "metadata": {},
     "output_type": "execute_result"
    }
   ],
   "source": [
    "other_questions"
   ]
  },
  {
   "cell_type": "code",
   "execution_count": 53,
   "id": "f2f49340",
   "metadata": {},
   "outputs": [],
   "source": [
    "response = len(df_options) - df[df_options].isna().sum(axis = 1)"
   ]
  },
  {
   "cell_type": "code",
   "execution_count": 54,
   "id": "fae9e818",
   "metadata": {},
   "outputs": [],
   "source": [
    "df['response'] = response"
   ]
  },
  {
   "cell_type": "code",
   "execution_count": 55,
   "id": "9f5c17ae",
   "metadata": {},
   "outputs": [],
   "source": [
    "for c in other_questions:\n",
    "    df[c] = df[c].fillna('UNKNOWN')"
   ]
  },
  {
   "cell_type": "code",
   "execution_count": 56,
   "id": "e364f871",
   "metadata": {},
   "outputs": [],
   "source": [
    "df['dress'] = df['dress'].astype('string')\n",
    "df['dress']= df['dress'].fillna('Unknown')\n",
    "df['dress']= df['dress'].astype('category')"
   ]
  },
  {
   "cell_type": "code",
   "execution_count": 57,
   "id": "dc874822",
   "metadata": {},
   "outputs": [],
   "source": [
    "df['day'] = df['day'].astype('string')\n",
    "df['day']= df['day'].fillna('Unknown')\n",
    "df['day']= df['day'].astype('category')"
   ]
  },
  {
   "cell_type": "code",
   "execution_count": 58,
   "id": "77a0e10f",
   "metadata": {},
   "outputs": [],
   "source": [
    "df['area'] = df['area'].fillna('Unkown')"
   ]
  },
  {
   "cell_type": "code",
   "execution_count": 59,
   "id": "0d48aa80",
   "metadata": {},
   "outputs": [],
   "source": [
    "candy_data = pd.DataFrame(df[df_options])"
   ]
  },
  {
   "cell_type": "code",
   "execution_count": 60,
   "id": "d6fea7c9",
   "metadata": {
    "scrolled": true
   },
   "outputs": [
    {
     "data": {
      "text/html": [
       "<div>\n",
       "<style scoped>\n",
       "    .dataframe tbody tr th:only-of-type {\n",
       "        vertical-align: middle;\n",
       "    }\n",
       "\n",
       "    .dataframe tbody tr th {\n",
       "        vertical-align: top;\n",
       "    }\n",
       "\n",
       "    .dataframe thead th {\n",
       "        text-align: right;\n",
       "    }\n",
       "</style>\n",
       "<table border=\"1\" class=\"dataframe\">\n",
       "  <thead>\n",
       "    <tr style=\"text-align: right;\">\n",
       "      <th></th>\n",
       "      <th>Q6 | 100 Grand Bar</th>\n",
       "      <th>Q6 | Anonymous brown globs that come in black and orange wrappers\\t(a.k.a. Mary Janes)</th>\n",
       "      <th>Q6 | Any full-sized candy bar</th>\n",
       "      <th>Q6 | Black Jacks</th>\n",
       "      <th>Q6 | Bonkers (the candy)</th>\n",
       "      <th>Q6 | Bonkers (the board game)</th>\n",
       "      <th>Q6 | Bottle Caps</th>\n",
       "      <th>Q6 | Box'o'Raisins</th>\n",
       "      <th>Q6 | Broken glow stick</th>\n",
       "      <th>Q6 | Butterfinger</th>\n",
       "      <th>...</th>\n",
       "      <th>Q6 | Three Musketeers</th>\n",
       "      <th>Q6 | Tolberone something or other</th>\n",
       "      <th>Q6 | Trail Mix</th>\n",
       "      <th>Q6 | Twix</th>\n",
       "      <th>Q6 | Vials of pure high fructose corn syrup, for main-lining into your vein</th>\n",
       "      <th>Q6 | Vicodin</th>\n",
       "      <th>Q6 | Whatchamacallit Bars</th>\n",
       "      <th>Q6 | White Bread</th>\n",
       "      <th>Q6 | Whole Wheat anything</th>\n",
       "      <th>Q6 | York Peppermint Patties</th>\n",
       "    </tr>\n",
       "  </thead>\n",
       "  <tbody>\n",
       "    <tr>\n",
       "      <th>0</th>\n",
       "      <td>NaN</td>\n",
       "      <td>NaN</td>\n",
       "      <td>NaN</td>\n",
       "      <td>NaN</td>\n",
       "      <td>NaN</td>\n",
       "      <td>NaN</td>\n",
       "      <td>NaN</td>\n",
       "      <td>NaN</td>\n",
       "      <td>NaN</td>\n",
       "      <td>NaN</td>\n",
       "      <td>...</td>\n",
       "      <td>NaN</td>\n",
       "      <td>NaN</td>\n",
       "      <td>NaN</td>\n",
       "      <td>NaN</td>\n",
       "      <td>NaN</td>\n",
       "      <td>NaN</td>\n",
       "      <td>NaN</td>\n",
       "      <td>NaN</td>\n",
       "      <td>NaN</td>\n",
       "      <td>NaN</td>\n",
       "    </tr>\n",
       "    <tr>\n",
       "      <th>1</th>\n",
       "      <td>MEH</td>\n",
       "      <td>DESPAIR</td>\n",
       "      <td>JOY</td>\n",
       "      <td>MEH</td>\n",
       "      <td>DESPAIR</td>\n",
       "      <td>DESPAIR</td>\n",
       "      <td>DESPAIR</td>\n",
       "      <td>DESPAIR</td>\n",
       "      <td>DESPAIR</td>\n",
       "      <td>DESPAIR</td>\n",
       "      <td>...</td>\n",
       "      <td>JOY</td>\n",
       "      <td>JOY</td>\n",
       "      <td>DESPAIR</td>\n",
       "      <td>JOY</td>\n",
       "      <td>DESPAIR</td>\n",
       "      <td>DESPAIR</td>\n",
       "      <td>DESPAIR</td>\n",
       "      <td>DESPAIR</td>\n",
       "      <td>DESPAIR</td>\n",
       "      <td>DESPAIR</td>\n",
       "    </tr>\n",
       "    <tr>\n",
       "      <th>2</th>\n",
       "      <td>NaN</td>\n",
       "      <td>NaN</td>\n",
       "      <td>NaN</td>\n",
       "      <td>NaN</td>\n",
       "      <td>NaN</td>\n",
       "      <td>NaN</td>\n",
       "      <td>NaN</td>\n",
       "      <td>NaN</td>\n",
       "      <td>NaN</td>\n",
       "      <td>NaN</td>\n",
       "      <td>...</td>\n",
       "      <td>NaN</td>\n",
       "      <td>NaN</td>\n",
       "      <td>NaN</td>\n",
       "      <td>NaN</td>\n",
       "      <td>NaN</td>\n",
       "      <td>NaN</td>\n",
       "      <td>NaN</td>\n",
       "      <td>NaN</td>\n",
       "      <td>NaN</td>\n",
       "      <td>NaN</td>\n",
       "    </tr>\n",
       "    <tr>\n",
       "      <th>3</th>\n",
       "      <td>MEH</td>\n",
       "      <td>DESPAIR</td>\n",
       "      <td>JOY</td>\n",
       "      <td>MEH</td>\n",
       "      <td>MEH</td>\n",
       "      <td>DESPAIR</td>\n",
       "      <td>MEH</td>\n",
       "      <td>DESPAIR</td>\n",
       "      <td>DESPAIR</td>\n",
       "      <td>MEH</td>\n",
       "      <td>...</td>\n",
       "      <td>DESPAIR</td>\n",
       "      <td>JOY</td>\n",
       "      <td>MEH</td>\n",
       "      <td>JOY</td>\n",
       "      <td>DESPAIR</td>\n",
       "      <td>JOY</td>\n",
       "      <td>JOY</td>\n",
       "      <td>DESPAIR</td>\n",
       "      <td>DESPAIR</td>\n",
       "      <td>DESPAIR</td>\n",
       "    </tr>\n",
       "    <tr>\n",
       "      <th>4</th>\n",
       "      <td>JOY</td>\n",
       "      <td>DESPAIR</td>\n",
       "      <td>JOY</td>\n",
       "      <td>DESPAIR</td>\n",
       "      <td>MEH</td>\n",
       "      <td>DESPAIR</td>\n",
       "      <td>MEH</td>\n",
       "      <td>DESPAIR</td>\n",
       "      <td>DESPAIR</td>\n",
       "      <td>MEH</td>\n",
       "      <td>...</td>\n",
       "      <td>JOY</td>\n",
       "      <td>JOY</td>\n",
       "      <td>DESPAIR</td>\n",
       "      <td>JOY</td>\n",
       "      <td>MEH</td>\n",
       "      <td>JOY</td>\n",
       "      <td>JOY</td>\n",
       "      <td>DESPAIR</td>\n",
       "      <td>DESPAIR</td>\n",
       "      <td>JOY</td>\n",
       "    </tr>\n",
       "    <tr>\n",
       "      <th>...</th>\n",
       "      <td>...</td>\n",
       "      <td>...</td>\n",
       "      <td>...</td>\n",
       "      <td>...</td>\n",
       "      <td>...</td>\n",
       "      <td>...</td>\n",
       "      <td>...</td>\n",
       "      <td>...</td>\n",
       "      <td>...</td>\n",
       "      <td>...</td>\n",
       "      <td>...</td>\n",
       "      <td>...</td>\n",
       "      <td>...</td>\n",
       "      <td>...</td>\n",
       "      <td>...</td>\n",
       "      <td>...</td>\n",
       "      <td>...</td>\n",
       "      <td>...</td>\n",
       "      <td>...</td>\n",
       "      <td>...</td>\n",
       "      <td>...</td>\n",
       "    </tr>\n",
       "    <tr>\n",
       "      <th>2455</th>\n",
       "      <td>JOY</td>\n",
       "      <td>DESPAIR</td>\n",
       "      <td>MEH</td>\n",
       "      <td>DESPAIR</td>\n",
       "      <td>DESPAIR</td>\n",
       "      <td>MEH</td>\n",
       "      <td>MEH</td>\n",
       "      <td>DESPAIR</td>\n",
       "      <td>DESPAIR</td>\n",
       "      <td>MEH</td>\n",
       "      <td>...</td>\n",
       "      <td>MEH</td>\n",
       "      <td>MEH</td>\n",
       "      <td>JOY</td>\n",
       "      <td>JOY</td>\n",
       "      <td>MEH</td>\n",
       "      <td>JOY</td>\n",
       "      <td>DESPAIR</td>\n",
       "      <td>MEH</td>\n",
       "      <td>DESPAIR</td>\n",
       "      <td>MEH</td>\n",
       "    </tr>\n",
       "    <tr>\n",
       "      <th>2456</th>\n",
       "      <td>MEH</td>\n",
       "      <td>DESPAIR</td>\n",
       "      <td>JOY</td>\n",
       "      <td>NaN</td>\n",
       "      <td>NaN</td>\n",
       "      <td>NaN</td>\n",
       "      <td>NaN</td>\n",
       "      <td>DESPAIR</td>\n",
       "      <td>DESPAIR</td>\n",
       "      <td>JOY</td>\n",
       "      <td>...</td>\n",
       "      <td>MEH</td>\n",
       "      <td>MEH</td>\n",
       "      <td>DESPAIR</td>\n",
       "      <td>JOY</td>\n",
       "      <td>NaN</td>\n",
       "      <td>NaN</td>\n",
       "      <td>JOY</td>\n",
       "      <td>DESPAIR</td>\n",
       "      <td>MEH</td>\n",
       "      <td>JOY</td>\n",
       "    </tr>\n",
       "    <tr>\n",
       "      <th>2457</th>\n",
       "      <td>MEH</td>\n",
       "      <td>DESPAIR</td>\n",
       "      <td>JOY</td>\n",
       "      <td>DESPAIR</td>\n",
       "      <td>MEH</td>\n",
       "      <td>JOY</td>\n",
       "      <td>DESPAIR</td>\n",
       "      <td>MEH</td>\n",
       "      <td>MEH</td>\n",
       "      <td>DESPAIR</td>\n",
       "      <td>...</td>\n",
       "      <td>JOY</td>\n",
       "      <td>JOY</td>\n",
       "      <td>MEH</td>\n",
       "      <td>MEH</td>\n",
       "      <td>MEH</td>\n",
       "      <td>JOY</td>\n",
       "      <td>MEH</td>\n",
       "      <td>DESPAIR</td>\n",
       "      <td>DESPAIR</td>\n",
       "      <td>MEH</td>\n",
       "    </tr>\n",
       "    <tr>\n",
       "      <th>2458</th>\n",
       "      <td>NaN</td>\n",
       "      <td>NaN</td>\n",
       "      <td>NaN</td>\n",
       "      <td>NaN</td>\n",
       "      <td>NaN</td>\n",
       "      <td>NaN</td>\n",
       "      <td>NaN</td>\n",
       "      <td>NaN</td>\n",
       "      <td>NaN</td>\n",
       "      <td>NaN</td>\n",
       "      <td>...</td>\n",
       "      <td>NaN</td>\n",
       "      <td>NaN</td>\n",
       "      <td>NaN</td>\n",
       "      <td>NaN</td>\n",
       "      <td>NaN</td>\n",
       "      <td>NaN</td>\n",
       "      <td>NaN</td>\n",
       "      <td>NaN</td>\n",
       "      <td>NaN</td>\n",
       "      <td>NaN</td>\n",
       "    </tr>\n",
       "    <tr>\n",
       "      <th>2459</th>\n",
       "      <td>DESPAIR</td>\n",
       "      <td>DESPAIR</td>\n",
       "      <td>JOY</td>\n",
       "      <td>DESPAIR</td>\n",
       "      <td>DESPAIR</td>\n",
       "      <td>DESPAIR</td>\n",
       "      <td>DESPAIR</td>\n",
       "      <td>MEH</td>\n",
       "      <td>DESPAIR</td>\n",
       "      <td>JOY</td>\n",
       "      <td>...</td>\n",
       "      <td>JOY</td>\n",
       "      <td>MEH</td>\n",
       "      <td>DESPAIR</td>\n",
       "      <td>DESPAIR</td>\n",
       "      <td>DESPAIR</td>\n",
       "      <td>JOY</td>\n",
       "      <td>DESPAIR</td>\n",
       "      <td>MEH</td>\n",
       "      <td>DESPAIR</td>\n",
       "      <td>JOY</td>\n",
       "    </tr>\n",
       "  </tbody>\n",
       "</table>\n",
       "<p>2460 rows × 103 columns</p>\n",
       "</div>"
      ],
      "text/plain": [
       "     Q6 | 100 Grand Bar  \\\n",
       "0                   NaN   \n",
       "1                   MEH   \n",
       "2                   NaN   \n",
       "3                   MEH   \n",
       "4                   JOY   \n",
       "...                 ...   \n",
       "2455                JOY   \n",
       "2456                MEH   \n",
       "2457                MEH   \n",
       "2458                NaN   \n",
       "2459            DESPAIR   \n",
       "\n",
       "     Q6 | Anonymous brown globs that come in black and orange wrappers\\t(a.k.a. Mary Janes)  \\\n",
       "0                                                   NaN                                       \n",
       "1                                               DESPAIR                                       \n",
       "2                                                   NaN                                       \n",
       "3                                               DESPAIR                                       \n",
       "4                                               DESPAIR                                       \n",
       "...                                                 ...                                       \n",
       "2455                                            DESPAIR                                       \n",
       "2456                                            DESPAIR                                       \n",
       "2457                                            DESPAIR                                       \n",
       "2458                                                NaN                                       \n",
       "2459                                            DESPAIR                                       \n",
       "\n",
       "     Q6 | Any full-sized candy bar Q6 | Black Jacks Q6 | Bonkers (the candy)  \\\n",
       "0                              NaN              NaN                      NaN   \n",
       "1                              JOY              MEH                  DESPAIR   \n",
       "2                              NaN              NaN                      NaN   \n",
       "3                              JOY              MEH                      MEH   \n",
       "4                              JOY          DESPAIR                      MEH   \n",
       "...                            ...              ...                      ...   \n",
       "2455                           MEH          DESPAIR                  DESPAIR   \n",
       "2456                           JOY              NaN                      NaN   \n",
       "2457                           JOY          DESPAIR                      MEH   \n",
       "2458                           NaN              NaN                      NaN   \n",
       "2459                           JOY          DESPAIR                  DESPAIR   \n",
       "\n",
       "     Q6 | Bonkers (the board game) Q6 | Bottle Caps Q6 | Box'o'Raisins  \\\n",
       "0                              NaN              NaN                NaN   \n",
       "1                          DESPAIR          DESPAIR            DESPAIR   \n",
       "2                              NaN              NaN                NaN   \n",
       "3                          DESPAIR              MEH            DESPAIR   \n",
       "4                          DESPAIR              MEH            DESPAIR   \n",
       "...                            ...              ...                ...   \n",
       "2455                           MEH              MEH            DESPAIR   \n",
       "2456                           NaN              NaN            DESPAIR   \n",
       "2457                           JOY          DESPAIR                MEH   \n",
       "2458                           NaN              NaN                NaN   \n",
       "2459                       DESPAIR          DESPAIR                MEH   \n",
       "\n",
       "     Q6 | Broken glow stick Q6 | Butterfinger  ... Q6 | Three Musketeers  \\\n",
       "0                       NaN               NaN  ...                   NaN   \n",
       "1                   DESPAIR           DESPAIR  ...                   JOY   \n",
       "2                       NaN               NaN  ...                   NaN   \n",
       "3                   DESPAIR               MEH  ...               DESPAIR   \n",
       "4                   DESPAIR               MEH  ...                   JOY   \n",
       "...                     ...               ...  ...                   ...   \n",
       "2455                DESPAIR               MEH  ...                   MEH   \n",
       "2456                DESPAIR               JOY  ...                   MEH   \n",
       "2457                    MEH           DESPAIR  ...                   JOY   \n",
       "2458                    NaN               NaN  ...                   NaN   \n",
       "2459                DESPAIR               JOY  ...                   JOY   \n",
       "\n",
       "     Q6 | Tolberone something or other Q6 | Trail Mix Q6 | Twix  \\\n",
       "0                                  NaN            NaN       NaN   \n",
       "1                                  JOY        DESPAIR       JOY   \n",
       "2                                  NaN            NaN       NaN   \n",
       "3                                  JOY            MEH       JOY   \n",
       "4                                  JOY        DESPAIR       JOY   \n",
       "...                                ...            ...       ...   \n",
       "2455                               MEH            JOY       JOY   \n",
       "2456                               MEH        DESPAIR       JOY   \n",
       "2457                               JOY            MEH       MEH   \n",
       "2458                               NaN            NaN       NaN   \n",
       "2459                               MEH        DESPAIR   DESPAIR   \n",
       "\n",
       "     Q6 | Vials of pure high fructose corn syrup, for main-lining into your vein  \\\n",
       "0                                                   NaN                            \n",
       "1                                               DESPAIR                            \n",
       "2                                                   NaN                            \n",
       "3                                               DESPAIR                            \n",
       "4                                                   MEH                            \n",
       "...                                                 ...                            \n",
       "2455                                                MEH                            \n",
       "2456                                                NaN                            \n",
       "2457                                                MEH                            \n",
       "2458                                                NaN                            \n",
       "2459                                            DESPAIR                            \n",
       "\n",
       "     Q6 | Vicodin Q6 | Whatchamacallit Bars Q6 | White Bread  \\\n",
       "0             NaN                       NaN              NaN   \n",
       "1         DESPAIR                   DESPAIR          DESPAIR   \n",
       "2             NaN                       NaN              NaN   \n",
       "3             JOY                       JOY          DESPAIR   \n",
       "4             JOY                       JOY          DESPAIR   \n",
       "...           ...                       ...              ...   \n",
       "2455          JOY                   DESPAIR              MEH   \n",
       "2456          NaN                       JOY          DESPAIR   \n",
       "2457          JOY                       MEH          DESPAIR   \n",
       "2458          NaN                       NaN              NaN   \n",
       "2459          JOY                   DESPAIR              MEH   \n",
       "\n",
       "     Q6 | Whole Wheat anything Q6 | York Peppermint Patties  \n",
       "0                          NaN                          NaN  \n",
       "1                      DESPAIR                      DESPAIR  \n",
       "2                          NaN                          NaN  \n",
       "3                      DESPAIR                      DESPAIR  \n",
       "4                      DESPAIR                          JOY  \n",
       "...                        ...                          ...  \n",
       "2455                   DESPAIR                          MEH  \n",
       "2456                       MEH                          JOY  \n",
       "2457                   DESPAIR                          MEH  \n",
       "2458                       NaN                          NaN  \n",
       "2459                   DESPAIR                          JOY  \n",
       "\n",
       "[2460 rows x 103 columns]"
      ]
     },
     "execution_count": 60,
     "metadata": {},
     "output_type": "execute_result"
    }
   ],
   "source": [
    "candy_data"
   ]
  },
  {
   "cell_type": "code",
   "execution_count": 64,
   "id": "538c6dd1",
   "metadata": {},
   "outputs": [],
   "source": [
    "import matplotlib.pyplot as plt\n",
    "import seaborn as sns"
   ]
  },
  {
   "cell_type": "code",
   "execution_count": 65,
   "id": "3c9b1e40",
   "metadata": {},
   "outputs": [
    {
     "data": {
      "text/plain": [
       "<seaborn.axisgrid.FacetGrid at 0x29f6dcddc00>"
      ]
     },
     "execution_count": 65,
     "metadata": {},
     "output_type": "execute_result"
    },
    {
     "data": {
      "image/png": "[encoded data removed]",
      "text/plain": [
       "<Figure size 360x360 with 1 Axes>"
      ]
     },
     "metadata": {
      "needs_background": "light"
     },
     "output_type": "display_data"
    }
   ],
   "source": [
    "sns.catplot(x='gender' , data = df , kind = 'count')"
   ]
  },
  {
   "cell_type": "code",
   "execution_count": 70,
   "id": "a539d628",
   "metadata": {},
   "outputs": [
    {
     "data": {
      "image/png": "[encoded data removed]",
      "text/plain": [
       "<Figure size 1000x1000 with 4 Axes>"
      ]
     },
     "metadata": {},
     "output_type": "display_data"
    }
   ],
   "source": [
    "sns.catplot(x = 'dress'  , data = df , kind = 'count' , col = 'gender' , col_wrap = 2)\n",
    "plt.show()"
   ]
  },
  {
   "cell_type": "code",
   "execution_count": 74,
   "id": "e3344b5d",
   "metadata": {},
   "outputs": [
    {
     "data": {
      "text/plain": [
       "<seaborn.axisgrid.FacetGrid at 0x29f031ae2c0>"
      ]
     },
     "execution_count": 74,
     "metadata": {},
     "output_type": "execute_result"
    },
    {
     "data": {
      "image/png": "[encoded data removed]",
      "text/plain": [
       "<Figure size 655.5x500 with 1 Axes>"
      ]
     },
     "metadata": {},
     "output_type": "display_data"
    }
   ],
   "source": [
    "sns.catplot(y= 'age' , x = 'going_out' , data = df , kind = 'point' , hue = 'dress' , ci = None)"
   ]
  },
  {
   "cell_type": "code",
   "execution_count": 78,
   "id": "99320fb9",
   "metadata": {},
   "outputs": [
    {
     "data": {
      "text/plain": [
       "<seaborn.axisgrid.FacetGrid at 0x29f00b9dd50>"
      ]
     },
     "execution_count": 78,
     "metadata": {},
     "output_type": "execute_result"
    },
    {
     "data": {
      "image/png": "[encoded data removed]",
      "text/plain": [
       "<Figure size 500x500 with 1 Axes>"
      ]
     },
     "metadata": {},
     "output_type": "display_data"
    }
   ],
   "source": [
    "sns.catplot(x= 'country' , data = df  , kind = 'count' , order = ['Usa', 'Canada','Other'])\n"
   ]
  },
  {
   "cell_type": "code",
   "execution_count": null,
   "id": "aa535bd5",
   "metadata": {},
   "outputs": [],
   "source": []
  }
 ],
 "metadata": {
  "kernelspec": {
   "display_name": "Python 3 (ipykernel)",
   "language": "python",
   "name": "python3"
  },
  "language_info": {
   "codemirror_mode": {
    "name": "ipython",
    "version": 3
   },
   "file_extension": ".py",
   "mimetype": "text/x-python",
   "name": "python",
   "nbconvert_exporter": "python",
   "pygments_lexer": "ipython3",
   "version": "3.10.5"
  }
 },
 "nbformat": 4,
 "nbformat_minor": 5
}
